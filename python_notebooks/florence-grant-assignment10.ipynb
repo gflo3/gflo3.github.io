{
 "cells": [
  {
   "cell_type": "code",
   "execution_count": null,
   "id": "e04d64e3",
   "metadata": {},
   "outputs": [],
   "source": [
    "import altair as alt\n",
    "import pandas as pd\n",
    "import altair_saver\n",
    "\n",
    "url = \"https://raw.githubusercontent.com/UIUC-iSchool-DataViz/is445_bcubcg_fall2022/main/data/bfro_reports_fall2022.csv\"\n",
    "data = pd.read_csv(url)\n",
    "\n",
    "brush = alt.selection(type='interval')\n",
    "\n",
    "myWeatherPlot = alt.Chart(data).mark_bar().encode(\n",
    "    x=alt.X('uv_index:Q'),\n",
    "    y=alt.Y('humidity:Q'),\n",
    "    color=alt.condition(brush, alt.value('red'), alt.value('blue'))\n",
    ").add_selection(\n",
    "    brush\n",
    ").properties(\n",
    "    width=700,\n",
    "    height=700\n",
    ").interactive()\n",
    "\n",
    "myWeatherPlot = myWeatherPlot.encode(\n",
    "    tooltip=[\n",
    "        alt.Tooltip('temperature_high:Q', title='Temperature High'),\n",
    "        alt.Tooltip('precip_probability:Q', title='Precipitation Probability')\n",
    "    ]\n",
    ")\n",
    "\n",
    "myWeatherPlot\n"
   ]
  },
  {
   "cell_type": "code",
   "execution_count": null,
   "id": "a0e87cf5",
   "metadata": {},
   "outputs": [],
   "source": [
    "altair_saver.save(myWeatherPlot, 'myWeatherPlot.json')"
   ]
  },
  {
   "cell_type": "markdown",
   "id": "e265bd69",
   "metadata": {},
   "source": [
    "Write Up:\n",
    "\n",
    "- For my first graph, I used my homework #9 assignment as a starting point, I copied my code from Starboard and asked ChatGPT (https://chat.openai.com/chat) how I would be able to accomplish the same datavisualization goal with Python instead of Javascript. \n",
    "- This got me some functioning code, but I then modififed it to better address the objectives of this assignment. This visulization is showing UV index (X axis) and humidity (Y axis). The encoding type here for both axes is quantitative. When the user clicks and drags, the bars turn blue. I made the graph size 700 by 700.\n",
    "    - - For reference, my initial code for assignment #9 (first graph):\n",
    "    - \"var myWeatherPlot = {\n",
    "  data: {\"url\": \"https://raw.githubusercontent.com/UIUC-iSchool-DataViz/is445_bcubcg_fall2022/main/data/bfro_reports_fall2022.csv\"},\n",
    "  selection: {\n",
    "    \"brush\": {\n",
    "      \"type\": \"interval\"\n",
    "    }\n",
    "  },\n",
    "  mark: {\"type\": \"bar\", \"tooltip\": [\n",
    "    {\"field\": \"humidity\", \"type\": \"quantitative\"},\n",
    "    {\"field\": \"uv_index\", \"type\": \"quantitative\"},\n",
    "    {\"field\": \"temperature_high\", \"type\": \"quantitative\"},\n",
    "    {\"field\": \"precip_probability\", \"type\": \"quantitative\"}\n",
    "  ]},\n",
    "  width:\"600\", \n",
    "  height:\"800\",\n",
    "  encoding: {\n",
    "    \"x\": {\"field\": \"uv_index\", \"type\": \"quantitative\"},\n",
    "    \"y\": {\"field\": \"humidity\", \"type\": \"quantitative\"}, \n",
    "    \"color\": {\"condition\": {\"selection\":\"brush\"}, \"value\":\"red\" } \n",
    "  }\n",
    "}\n",
    "\n",
    "var v = vegaEmbed('#weatherWithVega', myWeatherPlot)\"\n",
    "- This code was modified by asking Chat GPT: \"I wrote code to display visualizations in javascript using a csv dataset and I need to do something similar but with python instead. I can also use altair and vega lite. Please adjust code:\"\n",
    "\n",
    "- For interactivity, I simply asked GPT how I could add interactivity and it added the section of code that adds to the tooltip when a user is hovering over the visualization. \n",
    "    - \"myWeatherPlot = myWeatherPlot.encode(\n",
    "    tooltip=[\n",
    "        alt.Tooltip('temperature_high:Q', title='Temperature High'),\n",
    "        alt.Tooltip('precip_probability:Q', title='Precipitation Probability')\n",
    "    ]\n",
    ")\"\n",
    "\n",
    "- This works well in giving a bit more information to the data storytelling of the chart.\n",
    "\n",
    "\n"
   ]
  },
  {
   "cell_type": "code",
   "execution_count": null,
   "id": "56cb0183",
   "metadata": {},
   "outputs": [],
   "source": [
    "\n",
    "brush = alt.selection(type='interval')\n",
    "\n",
    "myWeatherPlot2 = alt.Chart(data).mark_bar().encode(\n",
    "    x=alt.X('humidity:Q'),\n",
    "    y=alt.Y('wind_speed:Q'),\n",
    "    color=alt.condition(brush, alt.value('blue'), alt.value('green'))\n",
    ").add_selection(\n",
    "    brush\n",
    ").properties(\n",
    "    width=1000,\n",
    "    height=800\n",
    ").interactive()\n",
    "\n",
    "myWeatherPlot2 = myWeatherPlot2.encode(\n",
    "    tooltip=[\n",
    "        alt.Tooltip('humidity:Q', title='Humidity'),\n",
    "        alt.Tooltip('wind_speed:Q', title='Wind Speed (mph)'),\n",
    "    ]\n",
    ")\n",
    "\n",
    "\n",
    "myWeatherPlot2\n"
   ]
  },
  {
   "cell_type": "code",
   "execution_count": null,
   "id": "4d79998f",
   "metadata": {},
   "outputs": [],
   "source": [
    "altair_saver.save(myWeatherPlot2, 'myWeatherPlot2.json')"
   ]
  },
  {
   "cell_type": "markdown",
   "id": "fc7ae4ed",
   "metadata": {},
   "source": [
    "- For this section, I simply added the code from my first visualization and then modified what data I wanted to show on the X and Y axes. Here, I am showing the humidity and wind speed data from the spreadsheet. I thought this was interesting as sometimes there is more humidity when we have experienced a high wind event in Illinois. However, the data is someone mixed and doesn't definitively show that all high wind speeds are correlated to high humidity. I would be interested in further exploration with another dataset that would show events categorized by type of weather event (i.e. blizzard, tornado, etc). \n",
    "\n",
    "- For the colors, I simply changed them to blue and green (when clicked on). The only transformation I used was to adjust the height size to 1000 to better display the scale of the Y-axis."
   ]
  }
 ],
 "metadata": {
  "kernelspec": {
   "display_name": "Python 3 (ipykernel)",
   "language": "python",
   "name": "python3"
  },
  "language_info": {
   "codemirror_mode": {
    "name": "ipython",
    "version": 3
   },
   "file_extension": ".py",
   "mimetype": "text/x-python",
   "name": "python",
   "nbconvert_exporter": "python",
   "pygments_lexer": "ipython3",
   "version": "3.9.13"
  }
 },
 "nbformat": 4,
 "nbformat_minor": 5
}
